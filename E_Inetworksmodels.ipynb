{
 "cells": [
  {
   "cell_type": "code",
   "execution_count": 26,
   "metadata": {
    "collapsed": true
   },
   "outputs": [],
   "source": [
    "%matplotlib inline\n",
    "\n",
    "import matplotlib\n",
    "import numpy as np\n",
    "import matplotlib.pyplot as plt"
   ]
  },
  {
   "cell_type": "code",
   "execution_count": 27,
   "metadata": {},
   "outputs": [
    {
     "name": "stdout",
     "output_type": "stream",
     "text": [
      "[12 15 16 21 27 30 31 35 40 45 49 52 60 67 68 71]\n"
     ]
    }
   ],
   "source": [
    "Ne1 = 80  # the  number of excitatory neurons in the first part population\n",
    "wE1E1_Chem = 5 # the weight of excitatory connection in the first population \n",
    "wII1_Chem = -10 # the weight of inhibitory connection in the first population \n",
    "ih_neuron = np.sort(np.random.choice(np.arange(Ne1), size=int(Ne1*0.2), replace=False))\n",
    "print (ih_neuron)"
   ]
  },
  {
   "cell_type": "markdown",
   "metadata": {
    "collapsed": true
   },
   "source": [
    "\n",
    "## Example of the connection matrix\n"
   ]
  },
  {
   "cell_type": "code",
   "execution_count": 28,
   "metadata": {},
   "outputs": [
    {
     "name": "stdout",
     "output_type": "stream",
     "text": [
      "[[ 1.  1.  1. ...,  1.  1.  1.]\n",
      " [ 1.  1.  1. ...,  1.  1.  1.]\n",
      " [ 1.  1.  1. ...,  1.  1.  1.]\n",
      " ..., \n",
      " [ 1.  1.  1. ...,  1.  1.  1.]\n",
      " [ 1.  1.  1. ...,  1.  1.  1.]\n",
      " [ 1.  1.  1. ...,  1.  1.  1.]]\n"
     ]
    }
   ],
   "source": [
    "Weight_mat = np.ones((Ne1,Ne1))\n",
    "print (Weight_mat)"
   ]
  },
  {
   "cell_type": "markdown",
   "metadata": {},
   "source": [
    "## Introdcued the ihibitory part into the frist population and flagged by   $ -1 $"
   ]
  },
  {
   "cell_type": "code",
   "execution_count": 29,
   "metadata": {},
   "outputs": [
    {
     "name": "stdout",
     "output_type": "stream",
     "text": [
      "[[ 1.  1.  1. ...,  1.  1.  1.]\n",
      " [ 1.  1.  1. ...,  1.  1.  1.]\n",
      " [ 1.  1.  1. ...,  1.  1.  1.]\n",
      " ..., \n",
      " [ 1.  1.  1. ...,  1.  1.  1.]\n",
      " [ 1.  1.  1. ...,  1.  1.  1.]\n",
      " [ 1.  1.  1. ...,  1.  1.  1.]]\n"
     ]
    }
   ],
   "source": [
    "Weight_mat[ih_neuron,:] = -np.ones_like(Weight_mat[ih_neuron,:])\n",
    "Weight_mat[:,ih_neuron] = -np.ones_like(Weight_mat[:,ih_neuron])\n",
    "print(Weight_mat)"
   ]
  },
  {
   "cell_type": "code",
   "execution_count": 30,
   "metadata": {},
   "outputs": [
    {
     "name": "stdout",
     "output_type": "stream",
     "text": [
      "[[ 0.  1.  1. ...,  1.  1.  1.]\n",
      " [ 1.  0.  1. ...,  1.  1.  1.]\n",
      " [ 1.  1.  0. ...,  1.  1.  1.]\n",
      " ..., \n",
      " [ 1.  1.  1. ...,  0.  1.  1.]\n",
      " [ 1.  1.  1. ...,  1.  0.  1.]\n",
      " [ 1.  1.  1. ...,  1.  1.  0.]]\n"
     ]
    }
   ],
   "source": [
    "# remove itself connection of each neurons\n",
    "Weight_mat[np.diag_indices(Ne1)] = 0\n",
    "print(Weight_mat)"
   ]
  },
  {
   "cell_type": "markdown",
   "metadata": {},
   "source": [
    "## Checking the if the network is symmetry, if ifvalue equal zero, the network is symmetry"
   ]
  },
  {
   "cell_type": "code",
   "execution_count": 31,
   "metadata": {},
   "outputs": [
    {
     "name": "stdout",
     "output_type": "stream",
     "text": [
      "0\n"
     ]
    }
   ],
   "source": [
    "ifvalue = len(np.where((Weight_mat==np.transpose(Weight_mat))==False)[0])\n",
    "print (ifvalue)"
   ]
  },
  {
   "cell_type": "code",
   "execution_count": 32,
   "metadata": {},
   "outputs": [
    {
     "name": "stdout",
     "output_type": "stream",
     "text": [
      "[[ 0.  1.  1. ...,  1.  1.  1.]\n",
      " [ 1.  0.  1. ...,  1.  1.  1.]\n",
      " [ 1.  1.  0. ...,  1.  1.  1.]\n",
      " ..., \n",
      " [ 1.  1.  1. ...,  0.  1.  1.]\n",
      " [ 1.  1.  1. ...,  1.  0.  1.]\n",
      " [ 1.  1.  1. ...,  1.  1.  0.]]\n"
     ]
    }
   ],
   "source": [
    "Weight_mat[Weight_mat==-1] = -10\n",
    "print (Weight_mat)"
   ]
  },
  {
   "cell_type": "code",
   "execution_count": 33,
   "metadata": {},
   "outputs": [
    {
     "name": "stdout",
     "output_type": "stream",
     "text": [
      "[[ 0.  5.  5. ...,  5.  5.  5.]\n",
      " [ 5.  0.  5. ...,  5.  5.  5.]\n",
      " [ 5.  5.  0. ...,  5.  5.  5.]\n",
      " ..., \n",
      " [ 5.  5.  5. ...,  0.  5.  5.]\n",
      " [ 5.  5.  5. ...,  5.  0.  5.]\n",
      " [ 5.  5.  5. ...,  5.  5.  0.]]\n"
     ]
    }
   ],
   "source": [
    "Weight_mat[Weight_mat== 1] = 5\n",
    "print (Weight_mat)"
   ]
  },
  {
   "cell_type": "markdown",
   "metadata": {},
   "source": [
    "### plotted the wegith matrix of first population"
   ]
  },
  {
   "cell_type": "code",
   "execution_count": 34,
   "metadata": {},
   "outputs": [
    {
     "data": {
      "text/plain": [
       "<matplotlib.image.AxesImage at 0x7f5751a4d810>"
      ]
     },
     "execution_count": 34,
     "metadata": {},
     "output_type": "execute_result"
    },
    {
     "data": {
      "image/png": "[encoded data removed]",
      "text/plain": [
       "<matplotlib.figure.Figure at 0x7f5753c49ed0>"
      ]
     },
     "metadata": {},
     "output_type": "display_data"
    }
   ],
   "source": [
    "plt.imshow(Weight_mat)"
   ]
  },
  {
   "cell_type": "markdown",
   "metadata": {
    "collapsed": true
   },
   "source": [
    "## the connection matrix"
   ]
  },
  {
   "cell_type": "code",
   "execution_count": 35,
   "metadata": {},
   "outputs": [
    {
     "name": "stdout",
     "output_type": "stream",
     "text": [
      "[[0 0 1 ..., 0 0 0]\n",
      " [0 0 0 ..., 1 0 0]\n",
      " [0 0 0 ..., 1 0 0]\n",
      " ..., \n",
      " [0 0 0 ..., 0 0 0]\n",
      " [0 0 1 ..., 0 0 1]\n",
      " [0 0 0 ..., 0 0 1]]\n"
     ]
    }
   ],
   "source": [
    "Connect_mat = np.random.binomial(1,0.2, (Ne1, Ne1))\n",
    "print (Connect_mat)"
   ]
  },
  {
   "cell_type": "code",
   "execution_count": 37,
   "metadata": {},
   "outputs": [
    {
     "name": "stdout",
     "output_type": "stream",
     "text": [
      "[[ 0.  0.  5. ...,  0.  0.  0.]\n",
      " [ 0.  0.  0. ...,  5.  0.  0.]\n",
      " [ 0.  0.  0. ...,  5.  0.  0.]\n",
      " ..., \n",
      " [ 0.  0.  0. ...,  0.  0.  0.]\n",
      " [ 0.  0.  5. ...,  0.  0.  5.]\n",
      " [ 0.  0.  0. ...,  0.  0.  0.]]\n"
     ]
    }
   ],
   "source": [
    "link_mat= np.multiply(Weight_mat,Connect_mat)\n",
    "print(link_mat)"
   ]
  },
  {
   "cell_type": "code",
   "execution_count": 38,
   "metadata": {},
   "outputs": [
    {
     "data": {
      "text/plain": [
       "<matplotlib.image.AxesImage at 0x7f575198b3d0>"
      ]
     },
     "execution_count": 38,
     "metadata": {},
     "output_type": "execute_result"
    },
    {
     "data": {
      "image/png": "[encoded data removed]",
      "text/plain": [
       "<matplotlib.figure.Figure at 0x7f5751a879d0>"
      ]
     },
     "metadata": {},
     "output_type": "display_data"
    }
   ],
   "source": [
    "plt.imshow(link_mat)"
   ]
  },
  {
   "cell_type": "code",
   "execution_count": 40,
   "metadata": {},
   "outputs": [
    {
     "data": {
      "text/plain": [
       "(80, 80)"
      ]
     },
     "execution_count": 40,
     "metadata": {},
     "output_type": "execute_result"
    }
   ],
   "source": [
    "link_mat.shape\n"
   ]
  },
  {
   "cell_type": "code",
   "execution_count": null,
   "metadata": {
    "collapsed": true
   },
   "outputs": [],
   "source": []
  }
 ],
 "metadata": {
  "kernelspec": {
   "display_name": "Python 2",
   "language": "python",
   "name": "python2"
  },
  "language_info": {
   "codemirror_mode": {
    "name": "ipython",
    "version": 2
   },
   "file_extension": ".py",
   "mimetype": "text/x-python",
   "name": "python",
   "nbconvert_exporter": "python",
   "pygments_lexer": "ipython2",
   "version": "2.7.12"
  }
 },
 "nbformat": 4,
 "nbformat_minor": 2
}
